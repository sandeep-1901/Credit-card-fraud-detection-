{
 "cells": [
  {
   "cell_type": "markdown",
   "id": "d41f83ab-4ea3-490f-a9dc-5f04f9b5d1f0",
   "metadata": {},
   "source": [
    "# Importing library"
   ]
  },
  {
   "cell_type": "code",
   "execution_count": 27,
   "id": "d70e4a3c-bd0c-45dc-a32c-7116b1c2b3d9",
   "metadata": {
    "tags": []
   },
   "outputs": [],
   "source": [
    "import numpy as np \n",
    "import pandas as pd\n",
    "from sklearn.model_selection import train_test_split\n",
    "from sklearn.linear_model import LogisticRegression\n",
    "from sklearn.metrics import accuracy_score\n",
    "import matplotlib.pyplot as plt"
   ]
  },
  {
   "cell_type": "markdown",
   "id": "20ddae47-9df3-4222-bf79-59f231381685",
   "metadata": {},
   "source": [
    "## loading the data"
   ]
  },
  {
   "cell_type": "code",
   "execution_count": 30,
   "id": "f40d0353-bb93-4d40-a66c-31ee0900530b",
   "metadata": {
    "tags": []
   },
   "outputs": [],
   "source": [
    "credit_card_data = pd.read_csv('./creditcard.csv')"
   ]
  },
  {
   "cell_type": "code",
   "execution_count": 31,
   "id": "7632851d-ea5f-4062-b6d8-48b27e4f019e",
   "metadata": {
    "tags": []
   },
   "outputs": [
    {
     "data": {
      "text/html": [
       "<div>\n",
       "<style scoped>\n",
       "    .dataframe tbody tr th:only-of-type {\n",
       "        vertical-align: middle;\n",
       "    }\n",
       "\n",
       "    .dataframe tbody tr th {\n",
       "        vertical-align: top;\n",
       "    }\n",
       "\n",
       "    .dataframe thead th {\n",
       "        text-align: right;\n",
       "    }\n",
       "</style>\n",
       "<table border=\"1\" class=\"dataframe\">\n",
       "  <thead>\n",
       "    <tr style=\"text-align: right;\">\n",
       "      <th></th>\n",
       "      <th>Time</th>\n",
       "      <th>V1</th>\n",
       "      <th>V2</th>\n",
       "      <th>V3</th>\n",
       "      <th>V4</th>\n",
       "      <th>V5</th>\n",
       "      <th>V6</th>\n",
       "      <th>V7</th>\n",
       "      <th>V8</th>\n",
       "      <th>V9</th>\n",
       "      <th>...</th>\n",
       "      <th>V21</th>\n",
       "      <th>V22</th>\n",
       "      <th>V23</th>\n",
       "      <th>V24</th>\n",
       "      <th>V25</th>\n",
       "      <th>V26</th>\n",
       "      <th>V27</th>\n",
       "      <th>V28</th>\n",
       "      <th>Amount</th>\n",
       "      <th>Class</th>\n",
       "    </tr>\n",
       "  </thead>\n",
       "  <tbody>\n",
       "    <tr>\n",
       "      <th>0</th>\n",
       "      <td>0.0</td>\n",
       "      <td>-1.359807</td>\n",
       "      <td>-0.072781</td>\n",
       "      <td>2.536347</td>\n",
       "      <td>1.378155</td>\n",
       "      <td>-0.338321</td>\n",
       "      <td>0.462388</td>\n",
       "      <td>0.239599</td>\n",
       "      <td>0.098698</td>\n",
       "      <td>0.363787</td>\n",
       "      <td>...</td>\n",
       "      <td>-0.018307</td>\n",
       "      <td>0.277838</td>\n",
       "      <td>-0.110474</td>\n",
       "      <td>0.066928</td>\n",
       "      <td>0.128539</td>\n",
       "      <td>-0.189115</td>\n",
       "      <td>0.133558</td>\n",
       "      <td>-0.021053</td>\n",
       "      <td>149.62</td>\n",
       "      <td>0</td>\n",
       "    </tr>\n",
       "    <tr>\n",
       "      <th>1</th>\n",
       "      <td>0.0</td>\n",
       "      <td>1.191857</td>\n",
       "      <td>0.266151</td>\n",
       "      <td>0.166480</td>\n",
       "      <td>0.448154</td>\n",
       "      <td>0.060018</td>\n",
       "      <td>-0.082361</td>\n",
       "      <td>-0.078803</td>\n",
       "      <td>0.085102</td>\n",
       "      <td>-0.255425</td>\n",
       "      <td>...</td>\n",
       "      <td>-0.225775</td>\n",
       "      <td>-0.638672</td>\n",
       "      <td>0.101288</td>\n",
       "      <td>-0.339846</td>\n",
       "      <td>0.167170</td>\n",
       "      <td>0.125895</td>\n",
       "      <td>-0.008983</td>\n",
       "      <td>0.014724</td>\n",
       "      <td>2.69</td>\n",
       "      <td>0</td>\n",
       "    </tr>\n",
       "    <tr>\n",
       "      <th>2</th>\n",
       "      <td>1.0</td>\n",
       "      <td>-1.358354</td>\n",
       "      <td>-1.340163</td>\n",
       "      <td>1.773209</td>\n",
       "      <td>0.379780</td>\n",
       "      <td>-0.503198</td>\n",
       "      <td>1.800499</td>\n",
       "      <td>0.791461</td>\n",
       "      <td>0.247676</td>\n",
       "      <td>-1.514654</td>\n",
       "      <td>...</td>\n",
       "      <td>0.247998</td>\n",
       "      <td>0.771679</td>\n",
       "      <td>0.909412</td>\n",
       "      <td>-0.689281</td>\n",
       "      <td>-0.327642</td>\n",
       "      <td>-0.139097</td>\n",
       "      <td>-0.055353</td>\n",
       "      <td>-0.059752</td>\n",
       "      <td>378.66</td>\n",
       "      <td>0</td>\n",
       "    </tr>\n",
       "    <tr>\n",
       "      <th>3</th>\n",
       "      <td>1.0</td>\n",
       "      <td>-0.966272</td>\n",
       "      <td>-0.185226</td>\n",
       "      <td>1.792993</td>\n",
       "      <td>-0.863291</td>\n",
       "      <td>-0.010309</td>\n",
       "      <td>1.247203</td>\n",
       "      <td>0.237609</td>\n",
       "      <td>0.377436</td>\n",
       "      <td>-1.387024</td>\n",
       "      <td>...</td>\n",
       "      <td>-0.108300</td>\n",
       "      <td>0.005274</td>\n",
       "      <td>-0.190321</td>\n",
       "      <td>-1.175575</td>\n",
       "      <td>0.647376</td>\n",
       "      <td>-0.221929</td>\n",
       "      <td>0.062723</td>\n",
       "      <td>0.061458</td>\n",
       "      <td>123.50</td>\n",
       "      <td>0</td>\n",
       "    </tr>\n",
       "    <tr>\n",
       "      <th>4</th>\n",
       "      <td>2.0</td>\n",
       "      <td>-1.158233</td>\n",
       "      <td>0.877737</td>\n",
       "      <td>1.548718</td>\n",
       "      <td>0.403034</td>\n",
       "      <td>-0.407193</td>\n",
       "      <td>0.095921</td>\n",
       "      <td>0.592941</td>\n",
       "      <td>-0.270533</td>\n",
       "      <td>0.817739</td>\n",
       "      <td>...</td>\n",
       "      <td>-0.009431</td>\n",
       "      <td>0.798278</td>\n",
       "      <td>-0.137458</td>\n",
       "      <td>0.141267</td>\n",
       "      <td>-0.206010</td>\n",
       "      <td>0.502292</td>\n",
       "      <td>0.219422</td>\n",
       "      <td>0.215153</td>\n",
       "      <td>69.99</td>\n",
       "      <td>0</td>\n",
       "    </tr>\n",
       "  </tbody>\n",
       "</table>\n",
       "<p>5 rows × 31 columns</p>\n",
       "</div>"
      ],
      "text/plain": [
       "   Time        V1        V2        V3        V4        V5        V6        V7  \\\n",
       "0   0.0 -1.359807 -0.072781  2.536347  1.378155 -0.338321  0.462388  0.239599   \n",
       "1   0.0  1.191857  0.266151  0.166480  0.448154  0.060018 -0.082361 -0.078803   \n",
       "2   1.0 -1.358354 -1.340163  1.773209  0.379780 -0.503198  1.800499  0.791461   \n",
       "3   1.0 -0.966272 -0.185226  1.792993 -0.863291 -0.010309  1.247203  0.237609   \n",
       "4   2.0 -1.158233  0.877737  1.548718  0.403034 -0.407193  0.095921  0.592941   \n",
       "\n",
       "         V8        V9  ...       V21       V22       V23       V24       V25  \\\n",
       "0  0.098698  0.363787  ... -0.018307  0.277838 -0.110474  0.066928  0.128539   \n",
       "1  0.085102 -0.255425  ... -0.225775 -0.638672  0.101288 -0.339846  0.167170   \n",
       "2  0.247676 -1.514654  ...  0.247998  0.771679  0.909412 -0.689281 -0.327642   \n",
       "3  0.377436 -1.387024  ... -0.108300  0.005274 -0.190321 -1.175575  0.647376   \n",
       "4 -0.270533  0.817739  ... -0.009431  0.798278 -0.137458  0.141267 -0.206010   \n",
       "\n",
       "        V26       V27       V28  Amount  Class  \n",
       "0 -0.189115  0.133558 -0.021053  149.62      0  \n",
       "1  0.125895 -0.008983  0.014724    2.69      0  \n",
       "2 -0.139097 -0.055353 -0.059752  378.66      0  \n",
       "3 -0.221929  0.062723  0.061458  123.50      0  \n",
       "4  0.502292  0.219422  0.215153   69.99      0  \n",
       "\n",
       "[5 rows x 31 columns]"
      ]
     },
     "execution_count": 31,
     "metadata": {},
     "output_type": "execute_result"
    }
   ],
   "source": [
    "credit_card_data.head()"
   ]
  },
  {
   "cell_type": "markdown",
   "id": "5b165953-6c94-49f1-8843-3f322a4edfd8",
   "metadata": {},
   "source": [
    "## Distribution of legit transction and fraud transction"
   ]
  },
  {
   "cell_type": "code",
   "execution_count": 33,
   "id": "caf93893-4760-4d00-92cf-dfe40be79dad",
   "metadata": {
    "tags": []
   },
   "outputs": [
    {
     "data": {
      "text/plain": [
       "Class\n",
       "0    284315\n",
       "1       492\n",
       "Name: count, dtype: int64"
      ]
     },
     "execution_count": 33,
     "metadata": {},
     "output_type": "execute_result"
    }
   ],
   "source": [
    "credit_card_data['Class'].value_counts()"
   ]
  },
  {
   "cell_type": "code",
   "execution_count": null,
   "id": "0f13a481-7bdb-4b01-ac5f-38570886ebcb",
   "metadata": {},
   "outputs": [],
   "source": []
  },
  {
   "cell_type": "markdown",
   "id": "18eb77de-dc34-4548-8162-9ab696859f4d",
   "metadata": {},
   "source": [
    "#### this data is highly unbalance\n",
    "#### legit-->0\n",
    "#### fraud-->1"
   ]
  },
  {
   "cell_type": "code",
   "execution_count": 69,
   "id": "458995fa-35db-4782-b0ad-27a70be07e10",
   "metadata": {
    "tags": []
   },
   "outputs": [],
   "source": [
    "legit = credit_card_data[credit_card_data.Class==0]\n",
    "fraud = credit_card_data[credit_card_data.Class==1]"
   ]
  },
  {
   "cell_type": "code",
   "execution_count": 71,
   "id": "c13e5d4d-2b53-41b1-a2d0-086e9dfb7fcd",
   "metadata": {
    "tags": []
   },
   "outputs": [
    {
     "name": "stdout",
     "output_type": "stream",
     "text": [
      "            Time         V1         V2        V3        V4        V5  \\\n",
      "0            0.0  -1.359807  -0.072781  2.536347  1.378155 -0.338321   \n",
      "1            0.0   1.191857   0.266151  0.166480  0.448154  0.060018   \n",
      "2            1.0  -1.358354  -1.340163  1.773209  0.379780 -0.503198   \n",
      "3            1.0  -0.966272  -0.185226  1.792993 -0.863291 -0.010309   \n",
      "4            2.0  -1.158233   0.877737  1.548718  0.403034 -0.407193   \n",
      "...          ...        ...        ...       ...       ...       ...   \n",
      "284802  172786.0 -11.881118  10.071785 -9.834783 -2.066656 -5.364473   \n",
      "284803  172787.0  -0.732789  -0.055080  2.035030 -0.738589  0.868229   \n",
      "284804  172788.0   1.919565  -0.301254 -3.249640 -0.557828  2.630515   \n",
      "284805  172788.0  -0.240440   0.530483  0.702510  0.689799 -0.377961   \n",
      "284806  172792.0  -0.533413  -0.189733  0.703337 -0.506271 -0.012546   \n",
      "\n",
      "              V6        V7        V8        V9  ...       V21       V22  \\\n",
      "0       0.462388  0.239599  0.098698  0.363787  ... -0.018307  0.277838   \n",
      "1      -0.082361 -0.078803  0.085102 -0.255425  ... -0.225775 -0.638672   \n",
      "2       1.800499  0.791461  0.247676 -1.514654  ...  0.247998  0.771679   \n",
      "3       1.247203  0.237609  0.377436 -1.387024  ... -0.108300  0.005274   \n",
      "4       0.095921  0.592941 -0.270533  0.817739  ... -0.009431  0.798278   \n",
      "...          ...       ...       ...       ...  ...       ...       ...   \n",
      "284802 -2.606837 -4.918215  7.305334  1.914428  ...  0.213454  0.111864   \n",
      "284803  1.058415  0.024330  0.294869  0.584800  ...  0.214205  0.924384   \n",
      "284804  3.031260 -0.296827  0.708417  0.432454  ...  0.232045  0.578229   \n",
      "284805  0.623708 -0.686180  0.679145  0.392087  ...  0.265245  0.800049   \n",
      "284806 -0.649617  1.577006 -0.414650  0.486180  ...  0.261057  0.643078   \n",
      "\n",
      "             V23       V24       V25       V26       V27       V28  Amount  \\\n",
      "0      -0.110474  0.066928  0.128539 -0.189115  0.133558 -0.021053  149.62   \n",
      "1       0.101288 -0.339846  0.167170  0.125895 -0.008983  0.014724    2.69   \n",
      "2       0.909412 -0.689281 -0.327642 -0.139097 -0.055353 -0.059752  378.66   \n",
      "3      -0.190321 -1.175575  0.647376 -0.221929  0.062723  0.061458  123.50   \n",
      "4      -0.137458  0.141267 -0.206010  0.502292  0.219422  0.215153   69.99   \n",
      "...          ...       ...       ...       ...       ...       ...     ...   \n",
      "284802  1.014480 -0.509348  1.436807  0.250034  0.943651  0.823731    0.77   \n",
      "284803  0.012463 -1.016226 -0.606624 -0.395255  0.068472 -0.053527   24.79   \n",
      "284804 -0.037501  0.640134  0.265745 -0.087371  0.004455 -0.026561   67.88   \n",
      "284805 -0.163298  0.123205 -0.569159  0.546668  0.108821  0.104533   10.00   \n",
      "284806  0.376777  0.008797 -0.473649 -0.818267 -0.002415  0.013649  217.00   \n",
      "\n",
      "        Class  \n",
      "0           0  \n",
      "1           0  \n",
      "2           0  \n",
      "3           0  \n",
      "4           0  \n",
      "...       ...  \n",
      "284802      0  \n",
      "284803      0  \n",
      "284804      0  \n",
      "284805      0  \n",
      "284806      0  \n",
      "\n",
      "[284315 rows x 31 columns]\n"
     ]
    }
   ],
   "source": [
    "print(legit)"
   ]
  },
  {
   "cell_type": "markdown",
   "id": "807993f7-c5c9-4d82-a99d-6bcd4e0f1923",
   "metadata": {},
   "source": [
    "### stastical measurement"
   ]
  },
  {
   "cell_type": "code",
   "execution_count": 74,
   "id": "077dcbd4-1ac4-4097-a516-89ff9570f9e5",
   "metadata": {
    "tags": []
   },
   "outputs": [
    {
     "data": {
      "text/plain": [
       "count    284315.000000\n",
       "mean         88.291022\n",
       "std         250.105092\n",
       "min           0.000000\n",
       "25%           5.650000\n",
       "50%          22.000000\n",
       "75%          77.050000\n",
       "max       25691.160000\n",
       "Name: Amount, dtype: float64"
      ]
     },
     "execution_count": 74,
     "metadata": {},
     "output_type": "execute_result"
    }
   ],
   "source": [
    "legit.Amount.describe()"
   ]
  },
  {
   "cell_type": "code",
   "execution_count": 76,
   "id": "999464df-8b44-42fa-93a9-089b40bf2304",
   "metadata": {
    "tags": []
   },
   "outputs": [
    {
     "data": {
      "text/plain": [
       "count     492.000000\n",
       "mean      122.211321\n",
       "std       256.683288\n",
       "min         0.000000\n",
       "25%         1.000000\n",
       "50%         9.250000\n",
       "75%       105.890000\n",
       "max      2125.870000\n",
       "Name: Amount, dtype: float64"
      ]
     },
     "execution_count": 76,
     "metadata": {},
     "output_type": "execute_result"
    }
   ],
   "source": [
    "fraud.Amount.describe()"
   ]
  },
  {
   "cell_type": "code",
   "execution_count": 80,
   "id": "05a9cd81-56b7-46ba-bd95-4fd070ddb37e",
   "metadata": {
    "tags": []
   },
   "outputs": [
    {
     "data": {
      "text/html": [
       "<div>\n",
       "<style scoped>\n",
       "    .dataframe tbody tr th:only-of-type {\n",
       "        vertical-align: middle;\n",
       "    }\n",
       "\n",
       "    .dataframe tbody tr th {\n",
       "        vertical-align: top;\n",
       "    }\n",
       "\n",
       "    .dataframe thead tr th {\n",
       "        text-align: left;\n",
       "    }\n",
       "\n",
       "    .dataframe thead tr:last-of-type th {\n",
       "        text-align: right;\n",
       "    }\n",
       "</style>\n",
       "<table border=\"1\" class=\"dataframe\">\n",
       "  <thead>\n",
       "    <tr>\n",
       "      <th></th>\n",
       "      <th colspan=\"8\" halign=\"left\">Time</th>\n",
       "      <th colspan=\"2\" halign=\"left\">V1</th>\n",
       "      <th>...</th>\n",
       "      <th colspan=\"2\" halign=\"left\">V28</th>\n",
       "      <th colspan=\"8\" halign=\"left\">Amount</th>\n",
       "    </tr>\n",
       "    <tr>\n",
       "      <th></th>\n",
       "      <th>count</th>\n",
       "      <th>mean</th>\n",
       "      <th>std</th>\n",
       "      <th>min</th>\n",
       "      <th>25%</th>\n",
       "      <th>50%</th>\n",
       "      <th>75%</th>\n",
       "      <th>max</th>\n",
       "      <th>count</th>\n",
       "      <th>mean</th>\n",
       "      <th>...</th>\n",
       "      <th>75%</th>\n",
       "      <th>max</th>\n",
       "      <th>count</th>\n",
       "      <th>mean</th>\n",
       "      <th>std</th>\n",
       "      <th>min</th>\n",
       "      <th>25%</th>\n",
       "      <th>50%</th>\n",
       "      <th>75%</th>\n",
       "      <th>max</th>\n",
       "    </tr>\n",
       "    <tr>\n",
       "      <th>Class</th>\n",
       "      <th></th>\n",
       "      <th></th>\n",
       "      <th></th>\n",
       "      <th></th>\n",
       "      <th></th>\n",
       "      <th></th>\n",
       "      <th></th>\n",
       "      <th></th>\n",
       "      <th></th>\n",
       "      <th></th>\n",
       "      <th></th>\n",
       "      <th></th>\n",
       "      <th></th>\n",
       "      <th></th>\n",
       "      <th></th>\n",
       "      <th></th>\n",
       "      <th></th>\n",
       "      <th></th>\n",
       "      <th></th>\n",
       "      <th></th>\n",
       "      <th></th>\n",
       "    </tr>\n",
       "  </thead>\n",
       "  <tbody>\n",
       "    <tr>\n",
       "      <th>0</th>\n",
       "      <td>284315.0</td>\n",
       "      <td>94838.202258</td>\n",
       "      <td>47484.015786</td>\n",
       "      <td>0.0</td>\n",
       "      <td>54230.0</td>\n",
       "      <td>84711.0</td>\n",
       "      <td>139333.0</td>\n",
       "      <td>172792.0</td>\n",
       "      <td>284315.0</td>\n",
       "      <td>0.008258</td>\n",
       "      <td>...</td>\n",
       "      <td>0.077962</td>\n",
       "      <td>33.847808</td>\n",
       "      <td>284315.0</td>\n",
       "      <td>88.291022</td>\n",
       "      <td>250.105092</td>\n",
       "      <td>0.0</td>\n",
       "      <td>5.65</td>\n",
       "      <td>22.00</td>\n",
       "      <td>77.05</td>\n",
       "      <td>25691.16</td>\n",
       "    </tr>\n",
       "    <tr>\n",
       "      <th>1</th>\n",
       "      <td>492.0</td>\n",
       "      <td>80746.806911</td>\n",
       "      <td>47835.365138</td>\n",
       "      <td>406.0</td>\n",
       "      <td>41241.5</td>\n",
       "      <td>75568.5</td>\n",
       "      <td>128483.0</td>\n",
       "      <td>170348.0</td>\n",
       "      <td>492.0</td>\n",
       "      <td>-4.771948</td>\n",
       "      <td>...</td>\n",
       "      <td>0.381152</td>\n",
       "      <td>1.779364</td>\n",
       "      <td>492.0</td>\n",
       "      <td>122.211321</td>\n",
       "      <td>256.683288</td>\n",
       "      <td>0.0</td>\n",
       "      <td>1.00</td>\n",
       "      <td>9.25</td>\n",
       "      <td>105.89</td>\n",
       "      <td>2125.87</td>\n",
       "    </tr>\n",
       "  </tbody>\n",
       "</table>\n",
       "<p>2 rows × 240 columns</p>\n",
       "</div>"
      ],
      "text/plain": [
       "           Time                                                       \\\n",
       "          count          mean           std    min      25%      50%   \n",
       "Class                                                                  \n",
       "0      284315.0  94838.202258  47484.015786    0.0  54230.0  84711.0   \n",
       "1         492.0  80746.806911  47835.365138  406.0  41241.5  75568.5   \n",
       "\n",
       "                                 V1            ...       V28             \\\n",
       "            75%       max     count      mean  ...       75%        max   \n",
       "Class                                          ...                        \n",
       "0      139333.0  172792.0  284315.0  0.008258  ...  0.077962  33.847808   \n",
       "1      128483.0  170348.0     492.0 -4.771948  ...  0.381152   1.779364   \n",
       "\n",
       "         Amount                                                              \n",
       "          count        mean         std  min   25%    50%     75%       max  \n",
       "Class                                                                        \n",
       "0      284315.0   88.291022  250.105092  0.0  5.65  22.00   77.05  25691.16  \n",
       "1         492.0  122.211321  256.683288  0.0  1.00   9.25  105.89   2125.87  \n",
       "\n",
       "[2 rows x 240 columns]"
      ]
     },
     "execution_count": 80,
     "metadata": {},
     "output_type": "execute_result"
    }
   ],
   "source": [
    "credit_card_data.groupby('Class').describe()"
   ]
  },
  {
   "cell_type": "markdown",
   "id": "6f855ef8-eaa8-46f2-887e-bd69d4d80db6",
   "metadata": {},
   "source": [
    "##### building a dataset having uniform distribution is that 492 legit transction and 492 fraud transction"
   ]
  },
  {
   "cell_type": "code",
   "execution_count": 85,
   "id": "7e804e17-8715-4fec-87d2-1a3e7ccae494",
   "metadata": {
    "tags": []
   },
   "outputs": [],
   "source": [
    "legit_sample = legit.sample(n=492)"
   ]
  },
  {
   "cell_type": "markdown",
   "id": "d60297f7-d931-4503-bf56-dc9cf93f4e2a",
   "metadata": {},
   "source": [
    "#### concating the two data frame"
   ]
  },
  {
   "cell_type": "code",
   "execution_count": 92,
   "id": "d8d99c82-548c-4991-ac4a-92345bcca11f",
   "metadata": {
    "tags": []
   },
   "outputs": [],
   "source": [
    "new_data_frame = pd.concat([legit_sample,fraud],axis=0)"
   ]
  },
  {
   "cell_type": "code",
   "execution_count": 94,
   "id": "23998c37-69c3-4743-a847-fdf970f73d37",
   "metadata": {
    "tags": []
   },
   "outputs": [
    {
     "data": {
      "text/html": [
       "<div>\n",
       "<style scoped>\n",
       "    .dataframe tbody tr th:only-of-type {\n",
       "        vertical-align: middle;\n",
       "    }\n",
       "\n",
       "    .dataframe tbody tr th {\n",
       "        vertical-align: top;\n",
       "    }\n",
       "\n",
       "    .dataframe thead th {\n",
       "        text-align: right;\n",
       "    }\n",
       "</style>\n",
       "<table border=\"1\" class=\"dataframe\">\n",
       "  <thead>\n",
       "    <tr style=\"text-align: right;\">\n",
       "      <th></th>\n",
       "      <th>Time</th>\n",
       "      <th>V1</th>\n",
       "      <th>V2</th>\n",
       "      <th>V3</th>\n",
       "      <th>V4</th>\n",
       "      <th>V5</th>\n",
       "      <th>V6</th>\n",
       "      <th>V7</th>\n",
       "      <th>V8</th>\n",
       "      <th>V9</th>\n",
       "      <th>...</th>\n",
       "      <th>V21</th>\n",
       "      <th>V22</th>\n",
       "      <th>V23</th>\n",
       "      <th>V24</th>\n",
       "      <th>V25</th>\n",
       "      <th>V26</th>\n",
       "      <th>V27</th>\n",
       "      <th>V28</th>\n",
       "      <th>Amount</th>\n",
       "      <th>Class</th>\n",
       "    </tr>\n",
       "  </thead>\n",
       "  <tbody>\n",
       "    <tr>\n",
       "      <th>37805</th>\n",
       "      <td>39119.0</td>\n",
       "      <td>-1.154787</td>\n",
       "      <td>1.221601</td>\n",
       "      <td>0.996147</td>\n",
       "      <td>-0.174806</td>\n",
       "      <td>-0.069490</td>\n",
       "      <td>-0.459002</td>\n",
       "      <td>0.264676</td>\n",
       "      <td>0.409003</td>\n",
       "      <td>-0.760416</td>\n",
       "      <td>...</td>\n",
       "      <td>-0.125167</td>\n",
       "      <td>-0.489680</td>\n",
       "      <td>0.085510</td>\n",
       "      <td>0.000777</td>\n",
       "      <td>-0.127222</td>\n",
       "      <td>0.052459</td>\n",
       "      <td>-0.123397</td>\n",
       "      <td>0.056327</td>\n",
       "      <td>10.99</td>\n",
       "      <td>0</td>\n",
       "    </tr>\n",
       "    <tr>\n",
       "      <th>163358</th>\n",
       "      <td>115868.0</td>\n",
       "      <td>1.527933</td>\n",
       "      <td>-1.746153</td>\n",
       "      <td>-1.268955</td>\n",
       "      <td>-1.867807</td>\n",
       "      <td>-1.024196</td>\n",
       "      <td>-0.722644</td>\n",
       "      <td>-0.269411</td>\n",
       "      <td>-0.157429</td>\n",
       "      <td>2.603405</td>\n",
       "      <td>...</td>\n",
       "      <td>0.402589</td>\n",
       "      <td>0.756221</td>\n",
       "      <td>-0.145311</td>\n",
       "      <td>0.640017</td>\n",
       "      <td>-0.061427</td>\n",
       "      <td>-0.796857</td>\n",
       "      <td>0.019242</td>\n",
       "      <td>0.018141</td>\n",
       "      <td>294.79</td>\n",
       "      <td>0</td>\n",
       "    </tr>\n",
       "    <tr>\n",
       "      <th>135575</th>\n",
       "      <td>81314.0</td>\n",
       "      <td>-1.956290</td>\n",
       "      <td>1.984792</td>\n",
       "      <td>0.019815</td>\n",
       "      <td>-0.014324</td>\n",
       "      <td>-0.998977</td>\n",
       "      <td>-0.519365</td>\n",
       "      <td>-0.611070</td>\n",
       "      <td>1.565012</td>\n",
       "      <td>-0.604449</td>\n",
       "      <td>...</td>\n",
       "      <td>-0.124105</td>\n",
       "      <td>-0.608872</td>\n",
       "      <td>0.216471</td>\n",
       "      <td>0.131101</td>\n",
       "      <td>-0.160423</td>\n",
       "      <td>0.092211</td>\n",
       "      <td>0.103626</td>\n",
       "      <td>-0.005673</td>\n",
       "      <td>14.99</td>\n",
       "      <td>0</td>\n",
       "    </tr>\n",
       "    <tr>\n",
       "      <th>205477</th>\n",
       "      <td>135762.0</td>\n",
       "      <td>2.042203</td>\n",
       "      <td>0.142931</td>\n",
       "      <td>-1.614000</td>\n",
       "      <td>1.400356</td>\n",
       "      <td>0.294700</td>\n",
       "      <td>-1.189642</td>\n",
       "      <td>0.528599</td>\n",
       "      <td>-0.329204</td>\n",
       "      <td>0.438596</td>\n",
       "      <td>...</td>\n",
       "      <td>0.027428</td>\n",
       "      <td>0.250704</td>\n",
       "      <td>0.023571</td>\n",
       "      <td>-0.050713</td>\n",
       "      <td>0.408136</td>\n",
       "      <td>-0.483441</td>\n",
       "      <td>-0.023406</td>\n",
       "      <td>-0.066691</td>\n",
       "      <td>1.00</td>\n",
       "      <td>0</td>\n",
       "    </tr>\n",
       "    <tr>\n",
       "      <th>27987</th>\n",
       "      <td>34801.0</td>\n",
       "      <td>1.384715</td>\n",
       "      <td>-0.716893</td>\n",
       "      <td>0.150579</td>\n",
       "      <td>-0.616782</td>\n",
       "      <td>-0.798662</td>\n",
       "      <td>-0.325054</td>\n",
       "      <td>-0.579571</td>\n",
       "      <td>-0.089192</td>\n",
       "      <td>-0.305863</td>\n",
       "      <td>...</td>\n",
       "      <td>-0.080672</td>\n",
       "      <td>-0.235436</td>\n",
       "      <td>-0.142452</td>\n",
       "      <td>-0.442976</td>\n",
       "      <td>0.608156</td>\n",
       "      <td>-0.220251</td>\n",
       "      <td>0.005828</td>\n",
       "      <td>0.010857</td>\n",
       "      <td>43.29</td>\n",
       "      <td>0</td>\n",
       "    </tr>\n",
       "  </tbody>\n",
       "</table>\n",
       "<p>5 rows × 31 columns</p>\n",
       "</div>"
      ],
      "text/plain": [
       "            Time        V1        V2        V3        V4        V5        V6  \\\n",
       "37805    39119.0 -1.154787  1.221601  0.996147 -0.174806 -0.069490 -0.459002   \n",
       "163358  115868.0  1.527933 -1.746153 -1.268955 -1.867807 -1.024196 -0.722644   \n",
       "135575   81314.0 -1.956290  1.984792  0.019815 -0.014324 -0.998977 -0.519365   \n",
       "205477  135762.0  2.042203  0.142931 -1.614000  1.400356  0.294700 -1.189642   \n",
       "27987    34801.0  1.384715 -0.716893  0.150579 -0.616782 -0.798662 -0.325054   \n",
       "\n",
       "              V7        V8        V9  ...       V21       V22       V23  \\\n",
       "37805   0.264676  0.409003 -0.760416  ... -0.125167 -0.489680  0.085510   \n",
       "163358 -0.269411 -0.157429  2.603405  ...  0.402589  0.756221 -0.145311   \n",
       "135575 -0.611070  1.565012 -0.604449  ... -0.124105 -0.608872  0.216471   \n",
       "205477  0.528599 -0.329204  0.438596  ...  0.027428  0.250704  0.023571   \n",
       "27987  -0.579571 -0.089192 -0.305863  ... -0.080672 -0.235436 -0.142452   \n",
       "\n",
       "             V24       V25       V26       V27       V28  Amount  Class  \n",
       "37805   0.000777 -0.127222  0.052459 -0.123397  0.056327   10.99      0  \n",
       "163358  0.640017 -0.061427 -0.796857  0.019242  0.018141  294.79      0  \n",
       "135575  0.131101 -0.160423  0.092211  0.103626 -0.005673   14.99      0  \n",
       "205477 -0.050713  0.408136 -0.483441 -0.023406 -0.066691    1.00      0  \n",
       "27987  -0.442976  0.608156 -0.220251  0.005828  0.010857   43.29      0  \n",
       "\n",
       "[5 rows x 31 columns]"
      ]
     },
     "execution_count": 94,
     "metadata": {},
     "output_type": "execute_result"
    }
   ],
   "source": [
    "new_data_frame.head()"
   ]
  },
  {
   "cell_type": "code",
   "execution_count": 96,
   "id": "38cf48bf-949d-41b8-8695-100a0ed69b26",
   "metadata": {
    "tags": []
   },
   "outputs": [
    {
     "data": {
      "text/plain": [
       "Class\n",
       "0    492\n",
       "1    492\n",
       "Name: count, dtype: int64"
      ]
     },
     "execution_count": 96,
     "metadata": {},
     "output_type": "execute_result"
    }
   ],
   "source": [
    "new_data_frame['Class'].value_counts()"
   ]
  },
  {
   "cell_type": "code",
   "execution_count": 98,
   "id": "a3f72177-24ec-4b4c-b934-ee4febfe0c6d",
   "metadata": {
    "tags": []
   },
   "outputs": [
    {
     "data": {
      "text/html": [
       "<div>\n",
       "<style scoped>\n",
       "    .dataframe tbody tr th:only-of-type {\n",
       "        vertical-align: middle;\n",
       "    }\n",
       "\n",
       "    .dataframe tbody tr th {\n",
       "        vertical-align: top;\n",
       "    }\n",
       "\n",
       "    .dataframe thead tr th {\n",
       "        text-align: left;\n",
       "    }\n",
       "\n",
       "    .dataframe thead tr:last-of-type th {\n",
       "        text-align: right;\n",
       "    }\n",
       "</style>\n",
       "<table border=\"1\" class=\"dataframe\">\n",
       "  <thead>\n",
       "    <tr>\n",
       "      <th></th>\n",
       "      <th colspan=\"8\" halign=\"left\">Time</th>\n",
       "      <th colspan=\"2\" halign=\"left\">V1</th>\n",
       "      <th>...</th>\n",
       "      <th colspan=\"2\" halign=\"left\">V28</th>\n",
       "      <th colspan=\"8\" halign=\"left\">Amount</th>\n",
       "    </tr>\n",
       "    <tr>\n",
       "      <th></th>\n",
       "      <th>count</th>\n",
       "      <th>mean</th>\n",
       "      <th>std</th>\n",
       "      <th>min</th>\n",
       "      <th>25%</th>\n",
       "      <th>50%</th>\n",
       "      <th>75%</th>\n",
       "      <th>max</th>\n",
       "      <th>count</th>\n",
       "      <th>mean</th>\n",
       "      <th>...</th>\n",
       "      <th>75%</th>\n",
       "      <th>max</th>\n",
       "      <th>count</th>\n",
       "      <th>mean</th>\n",
       "      <th>std</th>\n",
       "      <th>min</th>\n",
       "      <th>25%</th>\n",
       "      <th>50%</th>\n",
       "      <th>75%</th>\n",
       "      <th>max</th>\n",
       "    </tr>\n",
       "    <tr>\n",
       "      <th>Class</th>\n",
       "      <th></th>\n",
       "      <th></th>\n",
       "      <th></th>\n",
       "      <th></th>\n",
       "      <th></th>\n",
       "      <th></th>\n",
       "      <th></th>\n",
       "      <th></th>\n",
       "      <th></th>\n",
       "      <th></th>\n",
       "      <th></th>\n",
       "      <th></th>\n",
       "      <th></th>\n",
       "      <th></th>\n",
       "      <th></th>\n",
       "      <th></th>\n",
       "      <th></th>\n",
       "      <th></th>\n",
       "      <th></th>\n",
       "      <th></th>\n",
       "      <th></th>\n",
       "    </tr>\n",
       "  </thead>\n",
       "  <tbody>\n",
       "    <tr>\n",
       "      <th>0</th>\n",
       "      <td>492.0</td>\n",
       "      <td>93261.725610</td>\n",
       "      <td>47890.151269</td>\n",
       "      <td>365.0</td>\n",
       "      <td>50956.0</td>\n",
       "      <td>82703.5</td>\n",
       "      <td>138498.5</td>\n",
       "      <td>172267.0</td>\n",
       "      <td>492.0</td>\n",
       "      <td>-0.041613</td>\n",
       "      <td>...</td>\n",
       "      <td>0.075937</td>\n",
       "      <td>2.569189</td>\n",
       "      <td>492.0</td>\n",
       "      <td>92.847703</td>\n",
       "      <td>215.631296</td>\n",
       "      <td>0.0</td>\n",
       "      <td>5.0</td>\n",
       "      <td>20.53</td>\n",
       "      <td>82.4225</td>\n",
       "      <td>2237.64</td>\n",
       "    </tr>\n",
       "    <tr>\n",
       "      <th>1</th>\n",
       "      <td>492.0</td>\n",
       "      <td>80746.806911</td>\n",
       "      <td>47835.365138</td>\n",
       "      <td>406.0</td>\n",
       "      <td>41241.5</td>\n",
       "      <td>75568.5</td>\n",
       "      <td>128483.0</td>\n",
       "      <td>170348.0</td>\n",
       "      <td>492.0</td>\n",
       "      <td>-4.771948</td>\n",
       "      <td>...</td>\n",
       "      <td>0.381152</td>\n",
       "      <td>1.779364</td>\n",
       "      <td>492.0</td>\n",
       "      <td>122.211321</td>\n",
       "      <td>256.683288</td>\n",
       "      <td>0.0</td>\n",
       "      <td>1.0</td>\n",
       "      <td>9.25</td>\n",
       "      <td>105.8900</td>\n",
       "      <td>2125.87</td>\n",
       "    </tr>\n",
       "  </tbody>\n",
       "</table>\n",
       "<p>2 rows × 240 columns</p>\n",
       "</div>"
      ],
      "text/plain": [
       "        Time                                                                 \\\n",
       "       count          mean           std    min      25%      50%       75%   \n",
       "Class                                                                         \n",
       "0      492.0  93261.725610  47890.151269  365.0  50956.0  82703.5  138498.5   \n",
       "1      492.0  80746.806911  47835.365138  406.0  41241.5  75568.5  128483.0   \n",
       "\n",
       "                    V1            ...       V28           Amount              \\\n",
       "            max  count      mean  ...       75%       max  count        mean   \n",
       "Class                             ...                                          \n",
       "0      172267.0  492.0 -0.041613  ...  0.075937  2.569189  492.0   92.847703   \n",
       "1      170348.0  492.0 -4.771948  ...  0.381152  1.779364  492.0  122.211321   \n",
       "\n",
       "                                                       \n",
       "              std  min  25%    50%       75%      max  \n",
       "Class                                                  \n",
       "0      215.631296  0.0  5.0  20.53   82.4225  2237.64  \n",
       "1      256.683288  0.0  1.0   9.25  105.8900  2125.87  \n",
       "\n",
       "[2 rows x 240 columns]"
      ]
     },
     "execution_count": 98,
     "metadata": {},
     "output_type": "execute_result"
    }
   ],
   "source": [
    "new_data_frame.groupby('Class').describe()\n"
   ]
  },
  {
   "cell_type": "code",
   "execution_count": 110,
   "id": "492a434b-5f69-4fcd-90a7-15c9a9023460",
   "metadata": {
    "tags": []
   },
   "outputs": [],
   "source": [
    "X = new_data_frame.drop(columns='Class',axis=1)\n",
    "y = new_data_frame['Class']"
   ]
  },
  {
   "cell_type": "code",
   "execution_count": 112,
   "id": "ec64f092-8d82-4bab-b17e-e8c4d8cc8719",
   "metadata": {
    "tags": []
   },
   "outputs": [
    {
     "name": "stdout",
     "output_type": "stream",
     "text": [
      "37805     0\n",
      "163358    0\n",
      "135575    0\n",
      "205477    0\n",
      "27987     0\n",
      "         ..\n",
      "279863    1\n",
      "280143    1\n",
      "280149    1\n",
      "281144    1\n",
      "281674    1\n",
      "Name: Class, Length: 984, dtype: int64\n"
     ]
    }
   ],
   "source": [
    "print(y)"
   ]
  },
  {
   "cell_type": "code",
   "execution_count": 116,
   "id": "d37778c9-d97a-4f68-b4e2-e8db864e0cb3",
   "metadata": {
    "tags": []
   },
   "outputs": [
    {
     "name": "stdout",
     "output_type": "stream",
     "text": [
      "            Time        V1        V2        V3        V4        V5        V6  \\\n",
      "37805    39119.0 -1.154787  1.221601  0.996147 -0.174806 -0.069490 -0.459002   \n",
      "163358  115868.0  1.527933 -1.746153 -1.268955 -1.867807 -1.024196 -0.722644   \n",
      "135575   81314.0 -1.956290  1.984792  0.019815 -0.014324 -0.998977 -0.519365   \n",
      "205477  135762.0  2.042203  0.142931 -1.614000  1.400356  0.294700 -1.189642   \n",
      "27987    34801.0  1.384715 -0.716893  0.150579 -0.616782 -0.798662 -0.325054   \n",
      "...          ...       ...       ...       ...       ...       ...       ...   \n",
      "279863  169142.0 -1.927883  1.125653 -4.518331  1.749293 -1.566487 -2.010494   \n",
      "280143  169347.0  1.378559  1.289381 -5.004247  1.411850  0.442581 -1.326536   \n",
      "280149  169351.0 -0.676143  1.126366 -2.213700  0.468308 -1.120541 -0.003346   \n",
      "281144  169966.0 -3.113832  0.585864 -5.399730  1.817092 -0.840618 -2.943548   \n",
      "281674  170348.0  1.991976  0.158476 -2.583441  0.408670  1.151147 -0.096695   \n",
      "\n",
      "              V7        V8        V9  ...       V20       V21       V22  \\\n",
      "37805   0.264676  0.409003 -0.760416  ... -0.000210 -0.125167 -0.489680   \n",
      "163358 -0.269411 -0.157429  2.603405  ...  0.393926  0.402589  0.756221   \n",
      "135575 -0.611070  1.565012 -0.604449  ... -0.076673 -0.124105 -0.608872   \n",
      "205477  0.528599 -0.329204  0.438596  ... -0.417119  0.027428  0.250704   \n",
      "27987  -0.579571 -0.089192 -0.305863  ...  0.114028 -0.080672 -0.235436   \n",
      "...          ...       ...       ...  ...       ...       ...       ...   \n",
      "279863 -0.882850  0.697211 -2.064945  ...  1.252967  0.778584 -0.319189   \n",
      "280143 -1.413170  0.248525 -1.127396  ...  0.226138  0.370612  0.028234   \n",
      "280149 -2.234739  1.210158 -0.652250  ...  0.247968  0.751826  0.834108   \n",
      "281144 -2.208002  1.058733 -1.632333  ...  0.306271  0.583276 -0.269209   \n",
      "281674  0.223050 -0.068384  0.577829  ... -0.017652 -0.164350 -0.295135   \n",
      "\n",
      "             V23       V24       V25       V26       V27       V28  Amount  \n",
      "37805   0.085510  0.000777 -0.127222  0.052459 -0.123397  0.056327   10.99  \n",
      "163358 -0.145311  0.640017 -0.061427 -0.796857  0.019242  0.018141  294.79  \n",
      "135575  0.216471  0.131101 -0.160423  0.092211  0.103626 -0.005673   14.99  \n",
      "205477  0.023571 -0.050713  0.408136 -0.483441 -0.023406 -0.066691    1.00  \n",
      "27987  -0.142452 -0.442976  0.608156 -0.220251  0.005828  0.010857   43.29  \n",
      "...          ...       ...       ...       ...       ...       ...     ...  \n",
      "279863  0.639419 -0.294885  0.537503  0.788395  0.292680  0.147968  390.00  \n",
      "280143 -0.145640 -0.081049  0.521875  0.739467  0.389152  0.186637    0.76  \n",
      "280149  0.190944  0.032070 -0.739695  0.471111  0.385107  0.194361   77.89  \n",
      "281144 -0.456108 -0.183659 -0.328168  0.606116  0.884876 -0.253700  245.00  \n",
      "281674 -0.072173 -0.450261  0.313267 -0.289617  0.002988 -0.015309   42.53  \n",
      "\n",
      "[984 rows x 30 columns]\n"
     ]
    }
   ],
   "source": [
    "print(X)\n"
   ]
  },
  {
   "cell_type": "markdown",
   "id": "64013ef9-d0fa-495c-bc4a-410a6c348dcc",
   "metadata": {},
   "source": [
    "#### splitting the data into Training and test data"
   ]
  },
  {
   "cell_type": "code",
   "execution_count": 121,
   "id": "a13a4016-e712-46c2-b5f7-d3ed50a195cd",
   "metadata": {
    "tags": []
   },
   "outputs": [],
   "source": [
    "X_train,X_test,y_train,y_test = train_test_split(X,y,test_size=0.2,stratify=y,random_state=2)"
   ]
  },
  {
   "cell_type": "code",
   "execution_count": 123,
   "id": "1dac9918-ddc7-43cf-bdc5-5c84a4442c93",
   "metadata": {
    "tags": []
   },
   "outputs": [
    {
     "name": "stdout",
     "output_type": "stream",
     "text": [
      "(984, 30) (787, 30) (197, 30)\n"
     ]
    }
   ],
   "source": [
    "print(X.shape,X_train.shape,X_test.shape)"
   ]
  },
  {
   "cell_type": "markdown",
   "id": "0e3730c7-3266-4673-abb5-e362a59f8693",
   "metadata": {},
   "source": [
    "#### Model training using Logistic regression "
   ]
  },
  {
   "cell_type": "code",
   "execution_count": 126,
   "id": "f7a1f531-5f36-4632-8819-994944449a66",
   "metadata": {
    "tags": []
   },
   "outputs": [],
   "source": [
    "model  =LogisticRegression()"
   ]
  },
  {
   "cell_type": "code",
   "execution_count": 130,
   "id": "79d59482-0da5-4c5d-bc7f-be600d077ec5",
   "metadata": {
    "tags": []
   },
   "outputs": [
    {
     "data": {
      "text/html": [
       "<style>#sk-container-id-1 {color: black;}#sk-container-id-1 pre{padding: 0;}#sk-container-id-1 div.sk-toggleable {background-color: white;}#sk-container-id-1 label.sk-toggleable__label {cursor: pointer;display: block;width: 100%;margin-bottom: 0;padding: 0.3em;box-sizing: border-box;text-align: center;}#sk-container-id-1 label.sk-toggleable__label-arrow:before {content: \"▸\";float: left;margin-right: 0.25em;color: #696969;}#sk-container-id-1 label.sk-toggleable__label-arrow:hover:before {color: black;}#sk-container-id-1 div.sk-estimator:hover label.sk-toggleable__label-arrow:before {color: black;}#sk-container-id-1 div.sk-toggleable__content {max-height: 0;max-width: 0;overflow: hidden;text-align: left;background-color: #f0f8ff;}#sk-container-id-1 div.sk-toggleable__content pre {margin: 0.2em;color: black;border-radius: 0.25em;background-color: #f0f8ff;}#sk-container-id-1 input.sk-toggleable__control:checked~div.sk-toggleable__content {max-height: 200px;max-width: 100%;overflow: auto;}#sk-container-id-1 input.sk-toggleable__control:checked~label.sk-toggleable__label-arrow:before {content: \"▾\";}#sk-container-id-1 div.sk-estimator input.sk-toggleable__control:checked~label.sk-toggleable__label {background-color: #d4ebff;}#sk-container-id-1 div.sk-label input.sk-toggleable__control:checked~label.sk-toggleable__label {background-color: #d4ebff;}#sk-container-id-1 input.sk-hidden--visually {border: 0;clip: rect(1px 1px 1px 1px);clip: rect(1px, 1px, 1px, 1px);height: 1px;margin: -1px;overflow: hidden;padding: 0;position: absolute;width: 1px;}#sk-container-id-1 div.sk-estimator {font-family: monospace;background-color: #f0f8ff;border: 1px dotted black;border-radius: 0.25em;box-sizing: border-box;margin-bottom: 0.5em;}#sk-container-id-1 div.sk-estimator:hover {background-color: #d4ebff;}#sk-container-id-1 div.sk-parallel-item::after {content: \"\";width: 100%;border-bottom: 1px solid gray;flex-grow: 1;}#sk-container-id-1 div.sk-label:hover label.sk-toggleable__label {background-color: #d4ebff;}#sk-container-id-1 div.sk-serial::before {content: \"\";position: absolute;border-left: 1px solid gray;box-sizing: border-box;top: 0;bottom: 0;left: 50%;z-index: 0;}#sk-container-id-1 div.sk-serial {display: flex;flex-direction: column;align-items: center;background-color: white;padding-right: 0.2em;padding-left: 0.2em;position: relative;}#sk-container-id-1 div.sk-item {position: relative;z-index: 1;}#sk-container-id-1 div.sk-parallel {display: flex;align-items: stretch;justify-content: center;background-color: white;position: relative;}#sk-container-id-1 div.sk-item::before, #sk-container-id-1 div.sk-parallel-item::before {content: \"\";position: absolute;border-left: 1px solid gray;box-sizing: border-box;top: 0;bottom: 0;left: 50%;z-index: -1;}#sk-container-id-1 div.sk-parallel-item {display: flex;flex-direction: column;z-index: 1;position: relative;background-color: white;}#sk-container-id-1 div.sk-parallel-item:first-child::after {align-self: flex-end;width: 50%;}#sk-container-id-1 div.sk-parallel-item:last-child::after {align-self: flex-start;width: 50%;}#sk-container-id-1 div.sk-parallel-item:only-child::after {width: 0;}#sk-container-id-1 div.sk-dashed-wrapped {border: 1px dashed gray;margin: 0 0.4em 0.5em 0.4em;box-sizing: border-box;padding-bottom: 0.4em;background-color: white;}#sk-container-id-1 div.sk-label label {font-family: monospace;font-weight: bold;display: inline-block;line-height: 1.2em;}#sk-container-id-1 div.sk-label-container {text-align: center;}#sk-container-id-1 div.sk-container {/* jupyter's `normalize.less` sets `[hidden] { display: none; }` but bootstrap.min.css set `[hidden] { display: none !important; }` so we also need the `!important` here to be able to override the default hidden behavior on the sphinx rendered scikit-learn.org. See: https://github.com/scikit-learn/scikit-learn/issues/21755 */display: inline-block !important;position: relative;}#sk-container-id-1 div.sk-text-repr-fallback {display: none;}</style><div id=\"sk-container-id-1\" class=\"sk-top-container\"><div class=\"sk-text-repr-fallback\"><pre>LogisticRegression()</pre><b>In a Jupyter environment, please rerun this cell to show the HTML representation or trust the notebook. <br />On GitHub, the HTML representation is unable to render, please try loading this page with nbviewer.org.</b></div><div class=\"sk-container\" hidden><div class=\"sk-item\"><div class=\"sk-estimator sk-toggleable\"><input class=\"sk-toggleable__control sk-hidden--visually\" id=\"sk-estimator-id-1\" type=\"checkbox\" checked><label for=\"sk-estimator-id-1\" class=\"sk-toggleable__label sk-toggleable__label-arrow\">LogisticRegression</label><div class=\"sk-toggleable__content\"><pre>LogisticRegression()</pre></div></div></div></div></div>"
      ],
      "text/plain": [
       "LogisticRegression()"
      ]
     },
     "execution_count": 130,
     "metadata": {},
     "output_type": "execute_result"
    }
   ],
   "source": [
    "model.fit(X_train,y_train)"
   ]
  },
  {
   "cell_type": "markdown",
   "id": "15c3b05c-0e23-4dff-a48b-f39369c1b828",
   "metadata": {
    "tags": []
   },
   "source": [
    "#### Model Evaluation"
   ]
  },
  {
   "cell_type": "code",
   "execution_count": 148,
   "id": "adc253f3-863a-41c7-aa1c-8e8793a74173",
   "metadata": {
    "tags": []
   },
   "outputs": [],
   "source": [
    "train_predict = model.predict(X_train)"
   ]
  },
  {
   "cell_type": "markdown",
   "id": "c20bc302-e1d6-40df-ad2d-f51de121bc49",
   "metadata": {},
   "source": [
    "### Model evaluation"
   ]
  },
  {
   "cell_type": "code",
   "execution_count": 151,
   "id": "cec5f444-00bf-431e-a9ab-8b834358176d",
   "metadata": {
    "tags": []
   },
   "outputs": [],
   "source": [
    "train_accuracy = accuracy_score(train_predict,y_train)"
   ]
  },
  {
   "cell_type": "code",
   "execution_count": 153,
   "id": "d6fb4bee-601e-4085-91e2-7531a2bd9735",
   "metadata": {
    "tags": []
   },
   "outputs": [
    {
     "name": "stdout",
     "output_type": "stream",
     "text": [
      "accuracy on training data :  0.9415501905972046\n"
     ]
    }
   ],
   "source": [
    "print(\"accuracy on training data : \",train_accuracy)"
   ]
  },
  {
   "cell_type": "code",
   "execution_count": 155,
   "id": "0fafc667-f58c-4f88-83e8-3fda6e006916",
   "metadata": {
    "tags": []
   },
   "outputs": [
    {
     "name": "stdout",
     "output_type": "stream",
     "text": [
      "accuracy on test data 0.9238578680203046\n"
     ]
    }
   ],
   "source": [
    "test_predict = model.predict(X_test)\n",
    "test_accuracy = accuracy_score(test_predict,y_test)\n",
    "print(\"accuracy on test data\",test_accuracy)"
   ]
  },
  {
   "cell_type": "code",
   "execution_count": null,
   "id": "139d716b-85fb-4502-b0bc-24c2be8af215",
   "metadata": {},
   "outputs": [],
   "source": []
  }
 ],
 "metadata": {
  "kernelspec": {
   "display_name": "Python 3 (ipykernel)",
   "language": "python",
   "name": "python3"
  },
  "language_info": {
   "codemirror_mode": {
    "name": "ipython",
    "version": 3
   },
   "file_extension": ".py",
   "mimetype": "text/x-python",
   "name": "python",
   "nbconvert_exporter": "python",
   "pygments_lexer": "ipython3",
   "version": "3.11.5"
  }
 },
 "nbformat": 4,
 "nbformat_minor": 5
}
